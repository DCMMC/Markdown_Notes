{
 "cells": [
  {
   "cell_type": "markdown",
   "metadata": {},
   "source": [
    "## Convolutional Networks\n",
    "\n",
    "卷积神经网络(CNN) 是一种用来处理含有网格状拓扑结构(topology)的数据的神经网络. \n",
    "\n",
    "> 例如时间序列(time series)数据, 可以看做是固定时间间隔上的 1-D 网格; 而图像数据是像素的 2-D 网格.\n",
    "\n",
    "**卷积(Convolutional)** 是一种特殊的线性(数学)操作.\n",
    "\n",
    "> Def.\n",
    ">\n",
    "> 卷积网络是至少有一层被卷积来取代一般矩阵乘法的简单神经网络."
   ]
  },
  {
   "cell_type": "code",
   "execution_count": null,
   "metadata": {},
   "outputs": [],
   "source": []
  }
 ],
 "metadata": {
  "kernelspec": {
   "display_name": "Python 3",
   "language": "python",
   "name": "python3"
  },
  "language_info": {
   "codemirror_mode": {
    "name": "ipython",
    "version": 3
   },
   "file_extension": ".py",
   "mimetype": "text/x-python",
   "name": "python",
   "nbconvert_exporter": "python",
   "pygments_lexer": "ipython3",
   "version": "3.7.0"
  }
 },
 "nbformat": 4,
 "nbformat_minor": 2
}
