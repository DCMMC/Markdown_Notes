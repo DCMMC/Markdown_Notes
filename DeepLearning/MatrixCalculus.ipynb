{
 "cells": [
  {
   "cell_type": "markdown",
   "metadata": {},
   "source": [
    "# Matrix Calculus\n",
    "> **Refs**\n",
    ">\n",
    "> [Linear Algebra: Matrix Calculus](https://www.colorado.edu/engineering/CAS/courses.d/IFEM.d/IFEM.AppC.d/IFEM.AppC.pdf)\n",
    ">\n",
    "> [The Matrix Calculus You Need For Deep Learning](http://explained.ai/matrix-calculus/index.html)\n",
    "\n",
    "## 向量函数(Vector Function) 的导数(Derivative)\n",
    "\n",
    "$$\\boldsymbol{\\mathtt{x}} = \\left[ \\begin{matrix} x_1 \\\\ x_2 \\\\ \\vdots \\\\ x_n \\end{matrix} \\right], \\boldsymbol{\\mathtt{y}} = \\left[ \\begin{matrix} y_1 \\\\ y_2 \\\\ \\vdots \\\\ y_m \\end{matrix} \\right]$$\n",
    "\n",
    "**Defs**\n",
    "\n",
    "Derivative of vector with respect to vector\n",
    "\n",
    "$$\\frac{\\partial \\boldsymbol{y}}{\\partial \\boldsymbol{x}} \\stackrel{\\mathsf{def}}{=} \\left[ \\begin{matrix} \\frac{\\partial y_1}{\\partial x_1} & \\frac{\\partial y_2}{\\partial x_1} & \\cdots &\\frac{\\partial y_m}{\\partial x_1} \\\\ \\frac{\\partial y_1}{\\partial x_2} & \\frac{\\partial y_2}{\\partial x_2} & \\cdots &\\frac{\\partial y_m}{\\partial x_2} \\\\ \\vdots & \\vdots & \\ddots & \\vdots \\\\ \\frac{\\partial y_1}{\\partial x_n} & \\frac{\\partial y_2}{\\partial x_n} & \\cdots &\\frac{\\partial y_m}{\\partial x_n}\\end{matrix} \\right]$$\n",
    "\n",
    "\n",
    "Similarly the following\n",
    "\n",
    "\n",
    "$$\\frac{\\partial y}{\\partial \\boldsymbol{x}} \\stackrel{\\mathsf{def}}{=} \\left[ \\begin{matrix} \\frac{\\partial y}{\\partial x_1} \\\\ \\frac{\\partial y}{\\partial x_2} \\\\ \\vdots \\\\ \\frac{\\partial y}{\\partial x_n}\\end{matrix} \\right] $$\n",
    "\n",
    "\n",
    "\n",
    "$$\\frac{\\partial \\boldsymbol{y}}{\\partial x} \\stackrel{\\mathsf{def}}{=} \\left[ \\begin{matrix} \\frac{\\partial y_1}{\\partial x} \\frac{\\partial y_2}{\\partial x} \\cdots \\frac{\\partial y_m}{\\partial x}\\end{matrix} \\right]$$\n",
    "\n",
    "Jacobian Determinant of a variable transformation(e.g., from spherical to Cartesian coordinates)\n",
    "\n",
    "$$\\boldsymbol{J} = \\left| \\frac{\\partial \\boldsymbol{x}}{\\partial \\boldsymbol{y}} \\right|$$\n",
    "\n",
    "> $x$ and $y$ are of the same order, $\\boldsymbol{J}$ is the Jacobian of the transformation determined by $\\boldsymbol{y} = \\boldsymbol{y}(\\boldsymbol{x})$"
   ]
  },
  {
   "cell_type": "code",
   "execution_count": null,
   "metadata": {},
   "outputs": [],
   "source": []
  }
 ],
 "metadata": {
  "kernelspec": {
   "display_name": "Python 3",
   "language": "python",
   "name": "python3"
  },
  "language_info": {
   "codemirror_mode": {
    "name": "ipython",
    "version": 3
   },
   "file_extension": ".py",
   "mimetype": "text/x-python",
   "name": "python",
   "nbconvert_exporter": "python",
   "pygments_lexer": "ipython3",
   "version": "3.7.0"
  }
 },
 "nbformat": 4,
 "nbformat_minor": 2
}
