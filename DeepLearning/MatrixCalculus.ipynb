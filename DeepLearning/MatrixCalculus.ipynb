{
 "cells": [
  {
   "cell_type": "markdown",
   "metadata": {},
   "source": [
    "# Matrix Calculus\n",
    "> **Refs**\n",
    ">\n",
    "> [Linear Algebra: Matrix Calculus](https://www.colorado.edu/engineering/CAS/courses.d/IFEM.d/IFEM.AppC.d/IFEM.AppC.pdf)\n",
    ">\n",
    "> [The Matrix Calculus You Need For Deep Learning](http://explained.ai/matrix-calculus/index.html)\n"
   ]
  },
  {
   "cell_type": "markdown",
   "metadata": {},
   "source": [
    "## Review Scalar derivative rules\n",
    "\n",
    "Rule | fucntion | derivative notation with respect to $x$ | example for the rule\n",
    "--- | --- | --- | ---\n",
    "Constant | $c$ | $0$ | $\\frac{d}{d x} 99 = 0$\n",
    "Multiplication by constant | $cf$ | $c \\frac{df}{dx}$ | $\\frac{d}{dx} 9x = 9$\n",
    "Power Rule | $x^n$ | $n x^{n-1}$ | $\\frac{d}{dx} x^3 = 3x^2$\n",
    "Sum Rule | $f + g$ | $\\frac{df}{dx} + \\frac{dg}{dx}$ | $(x^2 + 3x)^\\prime = 2x + 3$\n",
    "Product Rule | $fg$ | $f^\\prime g + f g^\\prime$ | $(x \\sin x)^\\prime = \\sin x + x \\cos x$\n",
    "Chain Rule | $f(g(x))$ | $\\frac{df(g(x))}{dg(x)} \\frac{d g(x)}{dx}$ | $(\\ln x^2)^\\prime = \\frac{1}{x^2} 2x = \\frac{2}{x}$"
   ]
  },
  {
   "cell_type": "markdown",
   "metadata": {},
   "source": [
    "## 向量函数(Vector Function) 的导数(Derivative)\n",
    "\n",
    "$$\\boldsymbol{x} = \\left[ \\begin{matrix} x_1 \\\\ x_2 \\\\ \\vdots \\\\ x_n \\end{matrix} \\right], \\boldsymbol{y} = \\left[ \\begin{matrix} y_1 \\\\ y_2 \\\\ \\vdots \\\\ y_m \\end{matrix} \\right]$$\n",
    "\n",
    "**Defs**\n",
    "\n",
    "Derivative of vector with respect to vector\n",
    "\n",
    "$$\\frac{\\partial \\boldsymbol{y}}{\\partial \\boldsymbol{x}} \\stackrel{\\mathsf{def}}{=} \\left[ \\begin{matrix} \\frac{\\partial y_1}{\\partial x_1} & \\frac{\\partial y_1}{\\partial x_2} & \\cdots &\\frac{\\partial y_1}{\\partial x_n} \\\\ \\frac{\\partial y_2}{\\partial x_1} & \\frac{\\partial y_2}{\\partial x_2} & \\cdots &\\frac{\\partial y_2}{\\partial x_n} \\\\ \\vdots & \\vdots & \\ddots & \\vdots \\\\ \\frac{\\partial y_m}{\\partial x_1} & \\frac{\\partial y_m}{\\partial x_2} & \\cdots &\\frac{\\partial y_m}{\\partial x_n}\\end{matrix} \\right]$$\n",
    "\n",
    "> 这里的偏导数矩阵就是 Jacobian Matrix, 不过有些教材是 $J^\\top$\n",
    "\n",
    "**Jacobian Matrix**\n",
    "\n",
    "对于 $\\boldsymbol{f}: \\mathbb{R}^n \\rightarrow \\mathbb{R}^m$\n",
    "\n",
    "$$\\boldsymbol{J}_{i,j} = \\frac{\\partial f_i}{\\partial x_j}$$\n",
    "\n",
    "$$\\boldsymbol{J} = \\left[ \\begin{matrix} \\frac{\\partial \\boldsymbol{f}}{\\partial x_1} & \\cdots & \\frac{\\partial \\boldsymbol{f}}{\\partial x_n} \\end{matrix} \\right] = \\left[ \\begin{matrix} \\nabla f_1(\\boldsymbol{x}) \\\\ \\vdots \\\\ \\nabla f_m(\\boldsymbol{x}) \\end{matrix} \\right] = \\left[ \\begin{matrix} \\frac{\\partial f_1}{\\partial x_1} & \\cdots & \\frac{\\partial f_1}{\\partial x_n} \\\\ \\vdots & \\ddots & \\vdots \\\\ \\frac{\\partial f_m}{\\partial x_1} & \\cdots & \\frac{\\partial f_m}{\\partial x_n} \\end{matrix} \\right]$$\n",
    "\n",
    "Jacobian Determinant is the determinant of Jacobian Matrix(**iif $m = n$**).\n",
    "\n",
    "> Jacobian Determinant can be used to variable transformation(e.g., from spherical to Cartesian coordinates)\n",
    "\n",
    "\n",
    "Similarly the following\n",
    "\n",
    "\n",
    "$$\\frac{\\partial y}{\\partial \\boldsymbol{x}} \\stackrel{\\mathsf{def}}{=} \\left[ \\begin{matrix} \\frac{\\partial y}{\\partial x_1} & \\frac{\\partial y}{\\partial x_2} & \\cdots & \\frac{\\partial y}{\\partial x_n}\\end{matrix} \\right] $$\n",
    "\n",
    "\n",
    "\n",
    "$$\\frac{\\partial \\boldsymbol{y}}{\\partial x} \\stackrel{\\mathsf{def}}{=} \\left[ \\begin{matrix} \\frac{\\partial y_1}{\\partial x} \\\\ \\frac{\\partial y_2}{\\partial x} \\\\ \\vdots \\\\ \\frac{\\partial y_m}{\\partial x}\\end{matrix} \\right]$$\n",
    "\n",
    "### useful vector derivative formulas\n",
    "\n",
    "$\\boldsymbol{y}$ | $\\frac{\\partial \\boldsymbol{y}}{\\partial \\boldsymbol{x}}$\n",
    "--- | ---\n",
    "$\\boldsymbol{Ax}$ | $\\boldsymbol{A}^\\top$\n",
    "$\\boldsymbol{x}^\\top \\boldsymbol{A}$ | $\\boldsymbol{A}$\n",
    "$\\boldsymbol{x}^\\top \\boldsymbol{x}$ | $2 \\boldsymbol{x}$\n",
    "$\\boldsymbol{x}^\\top \\boldsymbol{Ax}$ | $\\boldsymbol{Ax} + \\boldsymbol{A}^\\top \\boldsymbol{x}$\n",
    "\n",
    "### Chain Rule for Vector Function\n",
    "\n",
    "$$\\boldsymbol{x} = \\left[ x_1 \\cdots x_n \\right]^\\top \\\\\n",
    "\\boldsymbol{y} = \\left[y_1 \\cdots y_r \\right]^\\top \\\\\n",
    "\\boldsymbol{z} = \\left[ z_1 \\cdots z_m \\right]^\\top \\\\\n",
    "\\frac{\\partial \\boldsymbol{z}}{\\partial \\boldsymbol{x}} =  \\left[ \\begin{matrix} \\frac{\\partial z_1}{\\partial x_1} & \\frac{\\partial z_1}{\\partial x_2} & \\cdots &\\frac{\\partial z_1}{\\partial x_n} \\\\ \\frac{\\partial z_2}{\\partial x_1} & \\frac{\\partial z_2}{\\partial x_2} & \\cdots &\\frac{\\partial z_2}{\\partial x_n} \\\\ \\vdots & \\vdots & \\ddots & \\vdots \\\\ \\frac{\\partial z_m}{\\partial x_1} & \\frac{\\partial z_m}{\\partial x_2} & \\cdots &\\frac{\\partial z_m}{\\partial x_n}\\end{matrix} \\right]\n",
    "$$\n",
    "\n",
    "由定义:\n",
    "\n",
    "$$\\frac{\\partial z_i}{\\partial x_j} = \\sum_{q=1}^r \\frac{\\partial z_i}{\\partial y_q} \\frac{\\partial y_q}{\\partial z_j}$$\n",
    "\n",
    "所以\n",
    "\n",
    "$$\\frac{\\partial \\boldsymbol{z}}{\\partial \\boldsymbol{x}} = \\left[\\begin{matrix} \\sum \\frac{\\partial z_1}{\\partial y_q} \\frac{\\partial y_q}{\\partial x_1} & \\cdots & \\sum \\frac{\\partial z_1}{\\partial y_q} \\frac{\\partial y_q}{\\partial x_n} \\\\  \\vdots & \\ddots & \\vdots \\\\ \\sum \\frac{\\partial z_m}{\\partial y_q} \\frac{\\partial y_q}{\\partial x_1} & \\cdots & \\sum \\frac{\\partial z_m}{\\partial y_q} \\frac{\\partial y_q}{\\partial x_n} \\end{matrix}\\right]\\\\\n",
    "= \\left[\\begin{matrix}\\frac{\\partial z_1}{\\partial y_1} & \\cdots & \\frac{\\partial z_1}{\\partial y_r} \\\\ \\vdots & \\ddots & \\vdots \\\\ \\frac{\\partial z_m}{\\partial y_1} & \\cdots & \\frac{\\partial z_m}{\\partial y_r}\\end{matrix}\\right] \\left[\\begin{matrix}\\frac{\\partial y_1}{\\partial x_1} & \\cdots & \\frac{\\partial y_1}{\\partial x_n}\\\\ \\vdots & \\ddots & \\vdots \\\\ \\frac{\\partial y_r}{\\partial x_1} & \\cdots & \\frac{\\partial y_r}{\\partial x_n} \\end{matrix} \\right] \\\\\n",
    "= \\frac{\\partial \\boldsymbol{z}}{\\partial \\boldsymbol{y}} \\frac{\\partial \\boldsymbol{y}}{\\partial \\boldsymbol{x}}$$\n",
    "\n",
    "Forward differentiation | Backward differentiation\n",
    "--- | ---\n",
    "$\\frac{d y}{d x} = \\frac{d u}{d x} \\frac{d y}{d u}$ | $\\frac{d y}{d x} = \\frac{d y}{d u} \\frac{d u}{d x}$"
   ]
  },
  {
   "cell_type": "markdown",
   "metadata": {},
   "source": [
    "## The deriavtive of scalar function of a matrix\n",
    "\n",
    "Let $\\boldsymbol{X}$ be a matrix of order $(m \\times n)$.\n",
    "\n",
    "$$y = f(\\boldsymbol{X})$$\n",
    "\n",
    "Gradient matrix\n",
    "\n",
    "$$\\boldsymbol{G} = \\frac{\\partial y}{\\partial \\boldsymbol{X}} = \\left[\\begin{matrix} \\frac{\\partial y}{\\partial x_{11}} & \\cdots & \\frac{\\partial y}{\\partial x_{1n}} \\\\\n",
    "    \\vdots & \\ddots & \\vdots \\\\ \\frac{\\partial y}{\\partial x_{n1}} & \\cdots & \\frac{\\partial y}{\\partial x_{nn}} \\end{matrix} \\right] = \\sum_{i,j} \\boldsymbol{E}_{i,j} \\frac{\\partial y}{\\partial x_{i,j}}$$\n",
    "    \n",
    "> 矩阵 $\\boldsymbol{E}_{i,j}$ denotes the **elementary matrix**(has all zero entries except for the $(i, j)$ entry) of order $(m \\times n)$"
   ]
  },
  {
   "cell_type": "markdown",
   "metadata": {},
   "source": [
    "## Matrix Differential\n",
    "\n",
    "For a scalar function, the differential with respect to n-vector $\\boldsymbol{x}$ is defined to:\n",
    "\n",
    "$$df = \\sum_{i=1}^n \\frac{\\partial f}{\\partial x_i} d x_i$$\n",
    "\n",
    "the differential of an $m \\times n$ matrix $\\boldsymbol{X} = [x_{ij}]$:\n",
    "\n",
    "$$d \\boldsymbol{X} = \\left[\\begin{matrix}d x_{11} & d x_{12} & \\cdots & d x_{1n} \\\\\n",
    "d x_{21} & d x_{22} & \\cdots & x_{2n} \\\\\n",
    "\\vdots & \\vdots & \\ddots & \\vdots \\\\\n",
    "d x_{m1} & d x_{m2} & \\cdots & d x_{mn}\n",
    "\\end{matrix}\\right]$$\n",
    "\n",
    "muliplicative and associative rules:\n",
    "\n",
    "$$d (\\alpha \\boldsymbol{X}) = \\alpha d \\boldsymbol{X}, d(\\boldsymbol{X} + \\boldsymbol{Y}) = d(\\boldsymbol{X}) + d(\\boldsymbol{Y})$$\n",
    "\n",
    "if $\\boldsymbol{X}$ and $\\boldsymbol{Y}$ are **product-conforming matrices**, then\n",
    "\n",
    "$$d(\\boldsymbol{XY}) = (d \\boldsymbol{X}) \\boldsymbol{Y} + \\boldsymbol{X} d(\\boldsymbol{Y})$$"
   ]
  }
 ],
 "metadata": {
  "kernelspec": {
   "display_name": "Python 3",
   "language": "python",
   "name": "python3"
  },
  "language_info": {
   "codemirror_mode": {
    "name": "ipython",
    "version": 3
   },
   "file_extension": ".py",
   "mimetype": "text/x-python",
   "name": "python",
   "nbconvert_exporter": "python",
   "pygments_lexer": "ipython3",
   "version": "3.7.0"
  }
 },
 "nbformat": 4,
 "nbformat_minor": 2
}
