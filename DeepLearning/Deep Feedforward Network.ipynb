{
 "cells": [
  {
   "cell_type": "markdown",
   "metadata": {},
   "source": [
    "# Deep Feedforward Network 深度前馈网络\n",
    "\n",
    "> 也叫 feedforward neural networks/multilayer preceptrons 多层感知机。\n",
    "\n",
    "目标就是估计一些函数 $f^*(\\boldsymbol{x};\\boldsymbol{\\theta})$, 模型学习参数 $\\boldsymbol{\\theta}$ 来得到最优函数估计，e.g., 对于分类器，$y = f^*(\\boldsymbol{x})$ 就是一个对输入 $\\boldsymbol{x}$ 的映射，映射到类别 $y$."
   ]
  }
 ],
 "metadata": {
  "kernelspec": {
   "display_name": "Python 3",
   "language": "python",
   "name": "python3"
  },
  "language_info": {
   "codemirror_mode": {
    "name": "ipython",
    "version": 3
   },
   "file_extension": ".py",
   "mimetype": "text/x-python",
   "name": "python",
   "nbconvert_exporter": "python",
   "pygments_lexer": "ipython3",
   "version": "3.7.0"
  }
 },
 "nbformat": 4,
 "nbformat_minor": 2
}
