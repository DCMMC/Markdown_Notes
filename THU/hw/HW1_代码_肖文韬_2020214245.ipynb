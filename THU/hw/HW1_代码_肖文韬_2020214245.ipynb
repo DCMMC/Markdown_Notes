{
 "cells": [
  {
   "cell_type": "markdown",
   "metadata": {},
   "source": [
    "## HW1  ANOVA 方差分析\n",
    "\n",
    "| 姓名 | 学号 | 专业 |\n",
    "| :-----| ----: | :----: |\n",
    "| 肖文韬 | 2020214245 | 计算机技术 |"
   ]
  },
  {
   "cell_type": "markdown",
   "metadata": {},
   "source": [
    "1. **(5 points) Recall and write down the assumptions which one-way ANOVA are based on.**\n",
    "\n",
    "ANOVA 是方差分析（<ins>AN</ins>alysis <ins>O</ins>f <ins>VA</ins>riance）的缩写，又称 F 检验, 用于三个及以上样本均值差别的显著性检验。它基于以下假设：\n",
    "\n",
    "* 所有的数据都是随机采样的。\n",
    "* 每个组的方差是一样的（同调性），各组的标准差中最大和最小的比例不超过 $2∶1$。\n",
    "* 残差是正态分布。\n",
    "\n",
    "2. **(5 points) Focus on two columns columns: Category (Col\\[2\\]) and Average Age (Col\\[7\\]). Taking feature Average Age as an example, we want to measure whether the average age varied significantly across the categories. Clearly state the null (H0) and the alternative (H1) hypotheses for this task.**\n",
    "\n",
    "定义相同 category 的样本属于同一个组（group）。\n",
    "\n",
    "* H0: 所有组的均值都相等（$\\mu_1 = \\mu_2 = \\cdots$)\n",
    "* H1: 不是所有组的均值都相等。"
   ]
  },
  {
   "cell_type": "code",
   "execution_count": 3,
   "metadata": {},
   "outputs": [
    {
     "name": "stdout",
     "output_type": "stream",
     "text": [
      "Warning: Cannot change to a different GUI toolkit: notebook. Using widget instead.\n"
     ]
    }
   ],
   "source": [
    "import pandas as pd\n",
    "import numpy as np\n",
    "from scipy.stats import normaltest\n",
    "from scipy.stats import f_oneway\n",
    "from scipy.stats import f\n",
    "from scipy.stats import boxcox\n",
    "from scipy.stats import yeojohnson\n",
    "import seaborn as sns\n",
    "import matplotlib.pyplot as plt\n",
    "from matplotlib import font_manager\n",
    "# TODO: widget\n",
    "# Must run in jupyterlab with commit:\n",
    "# https://github.com/jupyterlab/jupyterlab/tree/1bd8d78b06908f20e3f95da2158ce402abdc4df6\n",
    "# pip install --user ipympl\n",
    "# jupyter labextension install @jupyter-widgets/jupyterlab-manager@1.0\n",
    "%matplotlib notebook\n",
    "\n",
    "# Only Tested in Windows with Python 3.9\n",
    "plt.rcParams['font.sans-serif'] = ['SimHei']\n",
    "plt.rcParams['axes.unicode_minus'] = False\n",
    "\n",
    "# Bug @  ~\\AppData\\Roaming\\Python\\Python39\\site-packages\\xlrd\\xlsx.py:L60\n",
    "data = pd.read_excel('data.xlsx')\n",
    "\n",
    "def hypothesis_test(p_value, alpha=.01):\n",
    "    return (f'p_value = {p_value:.4e}' +\n",
    "          (f' < {alpha} (Reject H0)' if p_value < alpha else\n",
    "          f' > {alpha} (Accept H0)'))"
   ]
  },
  {
   "cell_type": "code",
   "execution_count": 4,
   "metadata": {},
   "outputs": [
    {
     "name": "stdout",
     "output_type": "stream",
     "text": [
      "p_value = 4.8348e-06 < 0.01 (Reject H0)\n"
     ]
    },
    {
     "data": {
      "application/vnd.jupyter.widget-view+json": {
       "model_id": "432c9ed7c3c84e828356cf9b0c5fc1a8",
       "version_major": 2,
       "version_minor": 0
      },
      "text/plain": [
       "Canvas(toolbar=Toolbar(toolitems=[('Home', 'Reset original view', 'home', 'home'), ('Back', 'Back to previous …"
      ]
     },
     "metadata": {},
     "output_type": "display_data"
    }
   ],
   "source": [
    "# Q3-(a)\n",
    "_, p_value = normaltest(data['平均年龄'])\n",
    "print(hypothesis_test(p_value))\n",
    "\n",
    "fig = plt.figure(figsize=(10, 6))\n",
    "ax1 = fig.add_subplot(2, 1, 1)\n",
    "ax1.scatter(data['平均年龄'].index, data['平均年龄'].values)\n",
    "plt.grid()\n",
    "ax2 = fig.add_subplot(2, 1, 2)\n",
    "data['平均年龄'].hist(bins=30, alpha=0.5, ax=ax2)\n",
    "# Note that kde (kernel density estimation) is not empirical pdf\n",
    "data['平均年龄'].plot(kind='kde', secondary_y=True, ax=ax2)\n",
    "plt.grid()\n",
    "plt.show()"
   ]
  },
  {
   "cell_type": "markdown",
   "metadata": {},
   "source": [
    "3. **Use your favorite statistics analysis software, like Matlab , R, Excel Excel, SPSS or …**\n",
    "\n",
    "(a). **(10 points) Draw the empirical probability density funfction of Col\\[7\\], i.e. the empirical pdf of average age. Does the data in this dimension follow Gaussian distribution? Test normality of Col\\[7\\].**\n",
    "\n",
    "Col\\[7\\] 的散点图和经验概率密度函数如上图所示。原假设（H0）假设数据符合正态分布。\n",
    "设置显著性水平 $\\alpha = 0.01$，通过计算 p-value $= 4.8348 \\times 10^{−6} < 0.01$，所以拒绝假设 $H_0$, col\\[7\\] 不符合高斯分布。"
   ]
  },
  {
   "cell_type": "code",
   "execution_count": null,
   "metadata": {},
   "outputs": [],
   "source": [
    "# Q3-(b)\n",
    "components = [[i, g['平均年龄']] for i, g in data[['群类别', '平均年龄']].groupby('群类别')]\n",
    "# Test the normality\n",
    "print('Normal Test:')\n",
    "for gid, group in components:\n",
    "    print(f'group {gid}: ' +\n",
    "          f'{hypothesis_test(normaltest(group)[1])}')\n",
    "    \n",
    "# Test the homogeneity of variances\n",
    "print('Homogeneity Test:')\n",
    "stds = [[gid, group.std()] for gid, group in components]\n",
    "print('\\n'.join([f'group {i}: std = {v:.5f}' for i, v in stds]))\n",
    "max_std, min_std = max(stds, key=lambda x: x[1])[1], min(stds, key=lambda x: x[1])[1]\n",
    "ratio = max_std / min_std\n",
    "print('Ratio of largest to smallest group std:\\n' +\n",
    "      f'{max_std:.5f} / {min_std:.5f} = {ratio:.5f} ' +\n",
    "      ('> 2:1 (Reject Homogeneity)' if ratio >= 2 else\n",
    "       '< 2:1 (Accept Homogeneity)'))"
   ]
  },
  {
   "cell_type": "markdown",
   "metadata": {},
   "source": [
    "(b) **(10 points) In Col[7], there are 5 components divided by category labels labels. We denote the data in Col\\[7\\] with category $i$ (where $i = 1, \\cdots , 5$) as Col\\[7|categoty=i\\]. Test the normality of each components and test the homogeneity of variances.**\n",
    "\n",
    "设置显著性水平 $\\alpha = 0.01$，计算得，组 1，2 和 3 符合正态性，组 4 和 5 不符合正态性。\n",
    "同时，计算各组的标准差，最大的与最小的之比为 $2.0437$ 略大于 $2:1$，所以不符合同调性。"
   ]
  },
  {
   "cell_type": "code",
   "execution_count": null,
   "metadata": {},
   "outputs": [],
   "source": [
    "# Q3-(c)\n",
    "\n",
    "def ANOVA(components):\n",
    "    # Within-group statistic\n",
    "    means, ns, vares = list(map(lambda x: np.array(x),\n",
    "                                zip(*[[g.mean(), len(g), g.var()] for _, g in components])))\n",
    "    grand_mean = sum(means * ns) / sum(ns)\n",
    "    # Between-group Variation\n",
    "    ssb = sum(ns * (means - grand_mean) ** 2)\n",
    "    # Within-group Variation\n",
    "    ssw = sum(ns * vares)\n",
    "    # Between-group degree of freedom\n",
    "    dfb = len(ns) - 1\n",
    "    # Within-group degree of freedom\n",
    "    dfw = sum(ns) - len(ns)\n",
    "    # Mean of Squares\n",
    "    msb = ssb / dfb\n",
    "    msw = ssw / dfw\n",
    "    # F Statistic\n",
    "    f_stat = msb / msw\n",
    "    p_value = f.pdf(f_stat, dfb, dfw)\n",
    "\n",
    "    # Visualization\n",
    "    df = pd.DataFrame({\n",
    "        'Source': ['Between', 'Within', 'Total'],\n",
    "        'SS': [ssb, ssw, ssb + ssw],\n",
    "        'df': [dfb, dfw, dfb + dfw],\n",
    "        'MS': [msb, msw, ''],\n",
    "        'F': [f_stat, '', ''],\n",
    "        'P': [p_value, '', '']\n",
    "    })\n",
    "    return df\n",
    "\n",
    "ANOVA(components)"
   ]
  },
  {
   "cell_type": "markdown",
   "metadata": {},
   "source": [
    "(c) **(20 points) Do the one one-way ANOVA test for Col\\[7\\] with categories in Col\\[2\\]. Write down your conclusion, supporting statistics, and visualize your data which inspire the process.**\n",
    "\n",
    "**结论**：在显著性水平 $\\alpha = 0.01$ 下，因为计算得到 p-value $\\approx 10^{−126} \\ll 0.01$，所以拒绝原假设 $H_0$：各组的方差相同。\n",
    "其计算过程和具体统计量在上表中展示，具体计算过程见上面代码。"
   ]
  },
  {
   "cell_type": "code",
   "execution_count": null,
   "metadata": {},
   "outputs": [],
   "source": [
    "# Q4\n",
    "cols = ['地域集中度', '年龄差', '消息数']\n",
    "\n",
    "# fig = plt.figure(figsize=(10, 3 * len(cols)))\n",
    "for idx_col, col in enumerate(cols):\n",
    "    print(f'Column: {col}')\n",
    "#     ax = fig.add_subplot(len(cols), 1, idx_col + 1)\n",
    "#     ax.set_title(col)\n",
    "#     data[col].hist(bins=30, alpha=0.5, ax=ax)\n",
    "#     data[col].plot(kind='kde', secondary_y=True, ax=ax)\n",
    "#     plt.grid()\n",
    "    sns.displot(data, x=col, hue='群类别', kind='kde', fill=True)\n",
    "    components = [[i, g[col]] for i, g in data[['群类别', col]].groupby('群类别')]\n",
    "    # Test the normality\n",
    "    print('Normal Test:')\n",
    "    for gid, group in components:\n",
    "        norm_test_res = hypothesis_test(normaltest(group)[1])\n",
    "        print(f'group {gid}: {norm_test_res}')\n",
    "\n",
    "    # Test the homogeneity of variances\n",
    "    print('Homogeneity Test:')\n",
    "    stds = [[gid, group.std()] for gid, group in components]\n",
    "    max_std, min_std = max(stds, key=lambda x: x[1])[1], min(stds, key=lambda x: x[1])[1]\n",
    "    ratio = max_std / min_std\n",
    "    print('Ratio of largest to smallest group std:\\n' +\n",
    "          f'{max_std:.5f} / {min_std:.5f} = {ratio:.5f} ' +\n",
    "          ('> 2:1 (Reject Homogeneity)' if ratio >= 2 else\n",
    "           '< 2:1 (Accept Homogeneity)'))\n",
    "\n",
    "# plt.show()"
   ]
  },
  {
   "cell_type": "code",
   "execution_count": null,
   "metadata": {},
   "outputs": [],
   "source": [
    "# Q4-log\n",
    "\n",
    "for idx_col, col in enumerate(cols):\n",
    "    print(f'Column: {col}')\n",
    "    trans_cols = {c: (lambda x: np.log(x)) if c == col else\n",
    "                  (lambda x: x) for c in data.columns}\n",
    "    sns.displot(data.transform(trans_cols),\n",
    "                x=col, hue='群类别', kind='kde', fill=True)\n",
    "    components = [[i, g[col].transform(\n",
    "        lambda x: np.log(x))] for i, g in data[['群类别', col]].groupby('群类别')]\n",
    "    # Test the normality\n",
    "    print('Normal Test:')\n",
    "    for gid, group in components:\n",
    "        norm_test_res = hypothesis_test(normaltest(group)[1])\n",
    "        print(f'group {gid}: {norm_test_res}')\n",
    "\n",
    "    # Test the homogeneity of variances\n",
    "    print('Homogeneity Test:')\n",
    "    stds = [[gid, group.std()] for gid, group in components]\n",
    "    max_std, min_std = max(stds, key=lambda x: x[1])[1], min(stds, key=lambda x: x[1])[1]\n",
    "    ratio = max_std / min_std\n",
    "    print('Ratio of largest to smallest group std:\\n' +\n",
    "          f'{max_std:.5f} / {min_std:.5f} = {ratio:.5f} ' +\n",
    "          ('> 2:1 (Reject Homogeneity)' if ratio >= 2 else\n",
    "           '< 2:1 (Accept Homogeneity)'))"
   ]
  },
  {
   "cell_type": "markdown",
   "metadata": {},
   "source": [
    "4. **(15 points) Choose another 3 columns, draw the empirical pdf of each feature columns and test which column follows these assumptions in question 1? How about their corresponding log transformation?**\n",
    "\n",
    "我选择的是 **地域集中度**，**年龄差** 和 **消息数**。\n",
    "从结果可以看出，这三种特征均没有同时满足所有组的正态性和同调性。\n",
    "\n",
    "对于正态性假设，我对各组进行正态性检验，**地域集中度**取 log 后依然没有变化，全都是不符合正态性。\n",
    "而对于**年龄差**，取对数后本来符合正态性的第二组变得不符合正态性了，本来不符合正态性的第三组却变得符合正态性了。\n",
    "对于**消息数**，可以看到本来五组均不符合正态性，经过 log 变换后，有两组都符合正态性了。\n",
    "\n",
    "对于同调性假设，我对各组计算其组内标准差，然后用最大最小标准差之间比值是否超过 $2:1$ 来衡量同调性。\n",
    "从结果可以看出，**地域集中度**和**年龄差**本来都符合同调性假设，结果经过 log 变换后都不符合同调性了。\n",
    "反正对于**消息数**，本来不符合同调性，结果 log 变换后符合同调性。\n",
    "\n",
    "所以我的结论是：\n",
    "\n",
    "* 实际生活中，因为本身分布就不是正态分布和数据中含有大量噪声等多种因素，能符合 ANOVA 的三个假设条件的数据比较少\n",
    "* log 变换对于向右偏斜的数据（例如**消息数**就存在着少量特别大的值，造成分布向右偏斜），是可以使其从不符合正态性和同调性变得符合的\n",
    "* log 变换对于不满足右偏斜的数据，也有可能将符合正态性和同调性的数据变得不符合"
   ]
  },
  {
   "cell_type": "markdown",
   "metadata": {},
   "source": [
    "5. **How to do one-way ANOVA with the non-normal data?**\n",
    "\n",
    "(a) **(10 points) Find and list the possible solutions set.**\n",
    "\n",
    "首先 one-way ANOVA 被认为是一种针对正态性假设具有很好的鲁棒性的测试，这意味着它可以较好地容忍违反其正态性假设的情况。\n",
    "关于组数据的正态性，one-way ANOVA 可以容忍非正态（偏态或峰态分布）的数据，这对I型错误率（Type I error rate）的影响很小<cite>[1]</cite>。\n",
    "\n",
    "经过查阅，我找到以下解决方案：\n",
    "\n",
    "* **采用非参方法**：例如Kruskal Wallis test<cite>[2]</cite>，这是一种可以替代 ANOVA 的非参方法，它不假设数据必须服从某个特定分布，该测试确定两组或更多组的中位数是否不同。\n",
    "* **变换**：变换作为应用于每个数据值的单个函数用来修正数据非正态或方差不均的问题。例如，对数变换有利于减少向右偏斜，就像上面**消息数**的例子。能够将非正态数据变换为更加强大的变换有：Box-Cox 变换和 Johnson 变换。\n",
    "\n",
    "[1] Blanca, M. J., Alarcón, R., Arnau, J., Bono, R., & Bendayan, R. (2017). Non-normal data: Is ANOVA still a valid option?. Psicothema, 29(4), 552-557.\n",
    "\n",
    "[2] Kruskal, William H., and W. Allen Wallis. \"Use of ranks in one-criterion variance analysis.\" Journal of the American statistical Association 47.260 (1952): 583-621."
   ]
  },
  {
   "cell_type": "code",
   "execution_count": null,
   "metadata": {},
   "outputs": [],
   "source": [
    "for col in cols:\n",
    "    print(f'Column: {col}')\n",
    "    components = [[i, g[col]] for i, g in data[['群类别', col]].groupby('群类别')]\n",
    "    print(ANOVA(components))\n",
    "    p_value = f_oneway(*[g for _, g in components]).pvalue\n",
    "    print(hypothesis_test(p_value))\n",
    "    print()"
   ]
  },
  {
   "cell_type": "code",
   "execution_count": null,
   "metadata": {},
   "outputs": [],
   "source": [
    "# Q5-boxcox\n",
    "\n",
    "for idx_col, col in enumerate(cols):\n",
    "    print(f'Column: {col}')\n",
    "    lmb = boxcox(data[col])[1]\n",
    "    trans_cols = {c: (lambda x: boxcox(x, lmbda=lmb)) if c == col else\n",
    "                  (lambda x: x) for c in data.columns}\n",
    "    sns.displot(data.transform(trans_cols),\n",
    "                x=col, hue='群类别', kind='kde', fill=True)\n",
    "    components = [[i, g[col].transform(\n",
    "        lambda x: boxcox(\n",
    "            x, lmbda=lmb))] for i, g in data[['群类别', col]].groupby('群类别')]\n",
    "    # Test the normality\n",
    "    print('Normal Test:')\n",
    "    for gid, group in components:\n",
    "        norm_test_res = hypothesis_test(normaltest(group)[1])\n",
    "        print(f'group {gid}: {norm_test_res}')\n",
    "\n",
    "    # Test the homogeneity of variances\n",
    "    print('Homogeneity Test:')\n",
    "    stds = [[gid, group.std()] for gid, group in components]\n",
    "    max_std, min_std = max(stds, key=lambda x: x[1])[1], min(stds, key=lambda x: x[1])[1]\n",
    "    ratio = max_std / min_std\n",
    "    print('Ratio of largest to smallest group std:\\n' +\n",
    "          f'{max_std:.5f} / {min_std:.5f} = {ratio:.5f} ' +\n",
    "          ('> 2:1 (Reject Homogeneity)' if ratio >= 2 else\n",
    "           '< 2:1 (Accept Homogeneity)'))\n",
    "    print('ANOVA Test:')\n",
    "    print(hypothesis_test(f_oneway(*[g for _, g in components]).pvalue))\n",
    "    print()"
   ]
  },
  {
   "cell_type": "code",
   "execution_count": null,
   "metadata": {},
   "outputs": [],
   "source": [
    "# Q5-yeojohnson\n",
    "\n",
    "for idx_col, col in enumerate(cols):\n",
    "    print(f'Column: {col}')\n",
    "    lmb = yeojohnson(data[col])[1]\n",
    "    trans_cols = {c: (lambda x: yeojohnson(x, lmbda=lmb)) if c == col else\n",
    "                  (lambda x: x) for c in data.columns}\n",
    "    sns.displot(data.transform(trans_cols),\n",
    "                x=col, hue='群类别', kind='kde', fill=True)\n",
    "    components = [[i, g[col].transform(\n",
    "        lambda x: yeojohnson(\n",
    "            x, lmbda=lmb))] for i, g in data[['群类别', col]].groupby('群类别')]\n",
    "    # Test the normality\n",
    "    print('Normal Test:')\n",
    "    for gid, group in components:\n",
    "        norm_test_res = hypothesis_test(normaltest(group)[1])\n",
    "        print(f'group {gid}: {norm_test_res}')\n",
    "\n",
    "    # Test the homogeneity of variances\n",
    "    print('Homogeneity Test:')\n",
    "    stds = [[gid, group.std()] for gid, group in components]\n",
    "    max_std, min_std = max(stds, key=lambda x: x[1])[1], min(stds, key=lambda x: x[1])[1]\n",
    "    ratio = max_std / min_std\n",
    "    print('Ratio of largest to smallest group std:\\n' +\n",
    "          f'{max_std:.5f} / {min_std:.5f} = {ratio:.5f} ' +\n",
    "          ('> 2:1 (Reject Homogeneity)' if ratio >= 2 else\n",
    "           '< 2:1 (Accept Homogeneity)'))\n",
    "    print('ANOVA Test:')\n",
    "    print(hypothesis_test(f_oneway(*[g for _, g in components]).pvalue))\n",
    "    print()"
   ]
  },
  {
   "cell_type": "markdown",
   "metadata": {},
   "source": [
    "(b) **(25 points) Do the one one-way ANOVA on the 3 columns you choose. Do these feature columns vary significantly? Visualize the results.**\n",
    "\n",
    "从上面三列的 ANOVA 的 p-value 结果可以看出，不管是否经过变换，这三个特征均拒绝原假设 $H_0$：所有组的均值都相等，并且都非常显著。\n",
    "也就是说，这三种特征在不同群类别下的均值差别明显。\n",
    "\n",
    "ANOVA 的计算过程见上面的程序输出，可视化过程也在上面的图片中展示。\n",
    "\n",
    "并且我们对数据使用 Box-Cox 和 Johnson 变换，从结果可以看出正态性改善依然比较有限，说明这些变换也并不是万能的。\n",
    "不过这两个变换是对同调性也有明显改善，Johnson 变换下甚至三种特征都已经符合同调性了。"
   ]
  },
  {
   "cell_type": "code",
   "execution_count": null,
   "metadata": {},
   "outputs": [],
   "source": [
    "# from ipywidgets import Widget\n",
    "# Widget.close_all()"
   ]
  }
 ],
 "metadata": {
  "kernelspec": {
   "display_name": "Python 3",
   "language": "python",
   "name": "python3"
  },
  "language_info": {
   "codemirror_mode": {
    "name": "ipython",
    "version": 3
   },
   "file_extension": ".py",
   "mimetype": "text/x-python",
   "name": "python",
   "nbconvert_exporter": "python",
   "pygments_lexer": "ipython3",
   "version": "3.9.0"
  },
  "widgets": {
   "application/vnd.jupyter.widget-state+json": {
    "state": {
     "030afd02f2604014bb9a7c6bf90cfb11": {
      "model_module": "@jupyter-widgets/base",
      "model_module_version": "1.2.0",
      "model_name": "LayoutModel",
      "state": {}
     },
     "18176664f7db47fb8d92eb264307efda": {
      "model_module": "@jupyter-widgets/base",
      "model_module_version": "1.2.0",
      "model_name": "LayoutModel",
      "state": {}
     },
     "21824ddc9ede44b8ab085c56a6889422": {
      "model_module": "@jupyter-widgets/base",
      "model_module_version": "1.2.0",
      "model_name": "LayoutModel",
      "state": {}
     },
     "292d2b7f6a3b46759630fbe04272b207": {
      "model_module": "@jupyter-widgets/base",
      "model_module_version": "1.2.0",
      "model_name": "LayoutModel",
      "state": {}
     },
     "320f95c1988c4321bd0d396c71022fdc": {
      "model_module": "@jupyter-widgets/base",
      "model_module_version": "1.2.0",
      "model_name": "LayoutModel",
      "state": {}
     },
     "3383b4a22c4442049bcc23449df5c7ad": {
      "model_module": "@jupyter-widgets/base",
      "model_module_version": "1.2.0",
      "model_name": "LayoutModel",
      "state": {}
     },
     "376f964da9e7418c8b60870cd5e2be8f": {
      "model_module": "@jupyter-widgets/base",
      "model_module_version": "1.2.0",
      "model_name": "LayoutModel",
      "state": {}
     },
     "62a1ebc2ff0e47518c6709f486d87fbd": {
      "model_module": "@jupyter-widgets/base",
      "model_module_version": "1.2.0",
      "model_name": "LayoutModel",
      "state": {}
     },
     "6ce9bc76366e4730bed92f0081640ca1": {
      "model_module": "@jupyter-widgets/base",
      "model_module_version": "1.2.0",
      "model_name": "LayoutModel",
      "state": {}
     },
     "6f6792e576294f0bb7674f7cc4c1f9b9": {
      "model_module": "@jupyter-widgets/base",
      "model_module_version": "1.2.0",
      "model_name": "LayoutModel",
      "state": {}
     },
     "8508f4a898934d4898cb8a6793d7af59": {
      "model_module": "@jupyter-widgets/base",
      "model_module_version": "1.2.0",
      "model_name": "LayoutModel",
      "state": {}
     },
     "8b8880d2da684518b15237bccd699a62": {
      "model_module": "@jupyter-widgets/base",
      "model_module_version": "1.2.0",
      "model_name": "LayoutModel",
      "state": {}
     },
     "95062ecd63b24057bac669e7a842e3c0": {
      "model_module": "@jupyter-widgets/base",
      "model_module_version": "1.2.0",
      "model_name": "LayoutModel",
      "state": {}
     },
     "951cc4cf62384293bfc1d2c2b6d97eb0": {
      "model_module": "@jupyter-widgets/base",
      "model_module_version": "1.2.0",
      "model_name": "LayoutModel",
      "state": {}
     },
     "97350c23e08c4961918fd39eba5a8bbf": {
      "model_module": "@jupyter-widgets/base",
      "model_module_version": "1.2.0",
      "model_name": "LayoutModel",
      "state": {}
     },
     "a0292396fc034dc9a114f1f3bb8f4e05": {
      "model_module": "@jupyter-widgets/base",
      "model_module_version": "1.2.0",
      "model_name": "LayoutModel",
      "state": {}
     },
     "ae47826a4bed4a59896f247ac98aef85": {
      "model_module": "@jupyter-widgets/base",
      "model_module_version": "1.2.0",
      "model_name": "LayoutModel",
      "state": {}
     },
     "afb97ba53237469c9f7f899922b83cf1": {
      "model_module": "@jupyter-widgets/base",
      "model_module_version": "1.2.0",
      "model_name": "LayoutModel",
      "state": {}
     },
     "b31e2d7973764a78b0ff113445cc5b0a": {
      "model_module": "@jupyter-widgets/base",
      "model_module_version": "1.2.0",
      "model_name": "LayoutModel",
      "state": {}
     },
     "cdc438b944084d7d92e03a0172742fd1": {
      "model_module": "@jupyter-widgets/base",
      "model_module_version": "1.2.0",
      "model_name": "LayoutModel",
      "state": {}
     },
     "d23375e55f8a472abb5ae047ad6e7532": {
      "model_module": "@jupyter-widgets/base",
      "model_module_version": "1.2.0",
      "model_name": "LayoutModel",
      "state": {}
     },
     "dcddb2dfba0247daa09f4937eaf864d8": {
      "model_module": "@jupyter-widgets/base",
      "model_module_version": "1.2.0",
      "model_name": "LayoutModel",
      "state": {}
     },
     "e361be6529ee4688b770ee24e963dedf": {
      "model_module": "@jupyter-widgets/base",
      "model_module_version": "1.2.0",
      "model_name": "LayoutModel",
      "state": {}
     },
     "ebb91683b20841dea8f47220dccec0f8": {
      "model_module": "@jupyter-widgets/base",
      "model_module_version": "1.2.0",
      "model_name": "LayoutModel",
      "state": {}
     },
     "f05450336cfa4e91a401aa4f91be3478": {
      "model_module": "@jupyter-widgets/base",
      "model_module_version": "1.2.0",
      "model_name": "LayoutModel",
      "state": {}
     },
     "fba3e7135e144c4ab443c881f6ff0fd6": {
      "model_module": "@jupyter-widgets/base",
      "model_module_version": "1.2.0",
      "model_name": "LayoutModel",
      "state": {}
     }
    },
    "version_major": 2,
    "version_minor": 0
   }
  }
 },
 "nbformat": 4,
 "nbformat_minor": 4
}
